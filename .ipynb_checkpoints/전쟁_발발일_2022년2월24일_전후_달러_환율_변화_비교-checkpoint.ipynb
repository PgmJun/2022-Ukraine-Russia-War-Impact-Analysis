{
 "cells": [
  {
   "cell_type": "code",
   "execution_count": 1,
   "id": "78f68a2a",
   "metadata": {},
   "outputs": [],
   "source": [
    "import pandas as pd\n",
    "from pandas import Series, DataFrame\n",
    "import numpy as np"
   ]
  },
  {
   "cell_type": "markdown",
   "id": "f5ef90c5",
   "metadata": {},
   "source": [
    "# 전쟁 발발일 2022년 2월 24일 전후 달러 환율 변화 비교"
   ]
  },
  {
   "cell_type": "code",
   "execution_count": 6,
   "id": "80c19233",
   "metadata": {},
   "outputs": [
    {
     "data": {
      "text/html": [
       "<div>\n",
       "<style scoped>\n",
       "    .dataframe tbody tr th:only-of-type {\n",
       "        vertical-align: middle;\n",
       "    }\n",
       "\n",
       "    .dataframe tbody tr th {\n",
       "        vertical-align: top;\n",
       "    }\n",
       "\n",
       "    .dataframe thead th {\n",
       "        text-align: right;\n",
       "    }\n",
       "</style>\n",
       "<table border=\"1\" class=\"dataframe\">\n",
       "  <thead>\n",
       "    <tr style=\"text-align: right;\">\n",
       "      <th></th>\n",
       "      <th>Price</th>\n",
       "      <th>Open</th>\n",
       "      <th>High</th>\n",
       "      <th>Low</th>\n",
       "      <th>Change</th>\n",
       "    </tr>\n",
       "    <tr>\n",
       "      <th>Date</th>\n",
       "      <th></th>\n",
       "      <th></th>\n",
       "      <th></th>\n",
       "      <th></th>\n",
       "      <th></th>\n",
       "    </tr>\n",
       "  </thead>\n",
       "  <tbody>\n",
       "    <tr>\n",
       "      <th>Apr 14 2022</th>\n",
       "      <td>80.9957</td>\n",
       "      <td>79.8675</td>\n",
       "      <td>82.3836</td>\n",
       "      <td>79.8563</td>\n",
       "      <td>1.41%</td>\n",
       "    </tr>\n",
       "    <tr>\n",
       "      <th>Apr 13 2022</th>\n",
       "      <td>79.8675</td>\n",
       "      <td>79.6800</td>\n",
       "      <td>80.2965</td>\n",
       "      <td>79.4078</td>\n",
       "      <td>0.24%</td>\n",
       "    </tr>\n",
       "    <tr>\n",
       "      <th>Apr 12 2022</th>\n",
       "      <td>79.6800</td>\n",
       "      <td>79.0650</td>\n",
       "      <td>80.2549</td>\n",
       "      <td>78.6952</td>\n",
       "      <td>0.78%</td>\n",
       "    </tr>\n",
       "    <tr>\n",
       "      <th>Apr 11 2022</th>\n",
       "      <td>79.0650</td>\n",
       "      <td>76.0800</td>\n",
       "      <td>81.2950</td>\n",
       "      <td>76.0800</td>\n",
       "      <td>3.92%</td>\n",
       "    </tr>\n",
       "    <tr>\n",
       "      <th>Apr 08 2022</th>\n",
       "      <td>76.0800</td>\n",
       "      <td>75.7500</td>\n",
       "      <td>76.2590</td>\n",
       "      <td>71.3993</td>\n",
       "      <td>0.44%</td>\n",
       "    </tr>\n",
       "    <tr>\n",
       "      <th>...</th>\n",
       "      <td>...</td>\n",
       "      <td>...</td>\n",
       "      <td>...</td>\n",
       "      <td>...</td>\n",
       "      <td>...</td>\n",
       "    </tr>\n",
       "    <tr>\n",
       "      <th>Sep 20 2001</th>\n",
       "      <td>29.4300</td>\n",
       "      <td>29.4550</td>\n",
       "      <td>29.4760</td>\n",
       "      <td>29.4030</td>\n",
       "      <td>-0.08%</td>\n",
       "    </tr>\n",
       "    <tr>\n",
       "      <th>Sep 19 2001</th>\n",
       "      <td>29.4530</td>\n",
       "      <td>29.4600</td>\n",
       "      <td>29.4810</td>\n",
       "      <td>29.4300</td>\n",
       "      <td>-0.02%</td>\n",
       "    </tr>\n",
       "    <tr>\n",
       "      <th>Sep 18 2001</th>\n",
       "      <td>29.4600</td>\n",
       "      <td>29.4450</td>\n",
       "      <td>29.4750</td>\n",
       "      <td>29.4400</td>\n",
       "      <td>-0.00%</td>\n",
       "    </tr>\n",
       "    <tr>\n",
       "      <th>Sep 17 2001</th>\n",
       "      <td>29.4610</td>\n",
       "      <td>29.4600</td>\n",
       "      <td>29.4730</td>\n",
       "      <td>29.4400</td>\n",
       "      <td>-0.04%</td>\n",
       "    </tr>\n",
       "    <tr>\n",
       "      <th>Sep 14 2001</th>\n",
       "      <td>29.4730</td>\n",
       "      <td>29.3500</td>\n",
       "      <td>29.4800</td>\n",
       "      <td>29.3500</td>\n",
       "      <td>-0.00%</td>\n",
       "    </tr>\n",
       "  </tbody>\n",
       "</table>\n",
       "<p>5320 rows × 5 columns</p>\n",
       "</div>"
      ],
      "text/plain": [
       "               Price     Open     High      Low  Change\n",
       "Date                                                   \n",
       "Apr 14 2022  80.9957  79.8675  82.3836  79.8563   1.41%\n",
       "Apr 13 2022  79.8675  79.6800  80.2965  79.4078   0.24%\n",
       "Apr 12 2022  79.6800  79.0650  80.2549  78.6952   0.78%\n",
       "Apr 11 2022  79.0650  76.0800  81.2950  76.0800   3.92%\n",
       "Apr 08 2022  76.0800  75.7500  76.2590  71.3993   0.44%\n",
       "...              ...      ...      ...      ...     ...\n",
       "Sep 20 2001  29.4300  29.4550  29.4760  29.4030  -0.08%\n",
       "Sep 19 2001  29.4530  29.4600  29.4810  29.4300  -0.02%\n",
       "Sep 18 2001  29.4600  29.4450  29.4750  29.4400  -0.00%\n",
       "Sep 17 2001  29.4610  29.4600  29.4730  29.4400  -0.04%\n",
       "Sep 14 2001  29.4730  29.3500  29.4800  29.3500  -0.00%\n",
       "\n",
       "[5320 rows x 5 columns]"
      ]
     },
     "execution_count": 6,
     "metadata": {},
     "output_type": "execute_result"
    }
   ],
   "source": [
    "# 사용자 데이터 읽어오기\n",
    "루블_달러_환율변동 = pd.read_csv('data/루블_달러_환율변동.csv', sep = ',', engine = 'python',\n",
    "                   names = ['Date','Price','Open','High','Low','Change'], skiprows=1, index_col=0)\n",
    "루블_달러_환율변동"
   ]
  },
  {
   "cell_type": "code",
   "execution_count": 7,
   "id": "a8d913fa",
   "metadata": {},
   "outputs": [
    {
     "data": {
      "text/html": [
       "<div>\n",
       "<style scoped>\n",
       "    .dataframe tbody tr th:only-of-type {\n",
       "        vertical-align: middle;\n",
       "    }\n",
       "\n",
       "    .dataframe tbody tr th {\n",
       "        vertical-align: top;\n",
       "    }\n",
       "\n",
       "    .dataframe thead th {\n",
       "        text-align: right;\n",
       "    }\n",
       "</style>\n",
       "<table border=\"1\" class=\"dataframe\">\n",
       "  <thead>\n",
       "    <tr style=\"text-align: right;\">\n",
       "      <th></th>\n",
       "      <th>Price</th>\n",
       "      <th>Open</th>\n",
       "      <th>High</th>\n",
       "      <th>Low</th>\n",
       "      <th>Change</th>\n",
       "    </tr>\n",
       "    <tr>\n",
       "      <th>Date</th>\n",
       "      <th></th>\n",
       "      <th></th>\n",
       "      <th></th>\n",
       "      <th></th>\n",
       "      <th></th>\n",
       "    </tr>\n",
       "  </thead>\n",
       "  <tbody>\n",
       "    <tr>\n",
       "      <th>Feb 24 2022</th>\n",
       "      <td>84.0475</td>\n",
       "      <td>81.16</td>\n",
       "      <td>90.1896</td>\n",
       "      <td>80.5225</td>\n",
       "      <td>3.57%</td>\n",
       "    </tr>\n",
       "  </tbody>\n",
       "</table>\n",
       "</div>"
      ],
      "text/plain": [
       "               Price   Open     High      Low Change\n",
       "Date                                                \n",
       "Feb 24 2022  84.0475  81.16  90.1896  80.5225  3.57%"
      ]
     },
     "execution_count": 7,
     "metadata": {},
     "output_type": "execute_result"
    }
   ],
   "source": [
    "# 전쟁 발발일 당일 환율\n",
    "루블_달러_환율변동.loc[['Feb 24 2022']]"
   ]
  },
  {
   "cell_type": "markdown",
   "id": "fcc15ffb",
   "metadata": {},
   "source": [
    "### 전쟁 발발일 기준 +-10일 루블화 달러 환율 비교"
   ]
  },
  {
   "cell_type": "code",
   "execution_count": 8,
   "id": "5b0bd619",
   "metadata": {},
   "outputs": [
    {
     "data": {
      "text/plain": [
       "<AxesSubplot:xlabel='Date'>"
      ]
     },
     "execution_count": 8,
     "metadata": {},
     "output_type": "execute_result"
    },
    {
     "data": {
      "image/png": "[encoded data removed]",
      "text/plain": [
       "<Figure size 432x288 with 1 Axes>"
      ]
     },
     "metadata": {
      "needs_background": "light"
     },
     "output_type": "display_data"
    }
   ],
   "source": [
    "전쟁전후10일환율 = 루블_달러_환율변동.iloc[45:24:-1]\n",
    "전쟁전후10일환율.Price.plot()"
   ]
  },
  {
   "cell_type": "markdown",
   "id": "0cd7740d",
   "metadata": {},
   "source": [
    "해당 그래프를 통하여 전쟁 발발일 2022년 2월 24일 이후, 루블화의 달러 환율이 큰 폭으로 상승하는 것을 확인할 수 있었다.\n",
    "그래프는 전쟁이 나라 지폐의 가치에 미치는 영향을 시각적으로 확인할 수 있도록 돕는다."
   ]
  }
 ],
 "metadata": {
  "kernelspec": {
   "display_name": "Python 3 (ipykernel)",
   "language": "python",
   "name": "python3"
  },
  "language_info": {
   "codemirror_mode": {
    "name": "ipython",
    "version": 3
   },
   "file_extension": ".py",
   "mimetype": "text/x-python",
   "name": "python",
   "nbconvert_exporter": "python",
   "pygments_lexer": "ipython3",
   "version": "3.9.12"
  }
 },
 "nbformat": 4,
 "nbformat_minor": 5
}
