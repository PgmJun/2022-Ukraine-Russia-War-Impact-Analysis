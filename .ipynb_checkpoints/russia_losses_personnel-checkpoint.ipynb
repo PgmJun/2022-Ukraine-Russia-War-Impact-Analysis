{
 "cells": [
  {
   "cell_type": "code",
   "execution_count": 148,
   "id": "78f68a2a",
   "metadata": {},
   "outputs": [],
   "source": [
    "import pandas as pd\n",
    "from pandas import Series, DataFrame\n",
    "import numpy as np\n",
    "\n",
    "from matplotlib import font_manager, rc\n",
    "\n",
    "font_name = font_manager.FontProperties(fname=\"c:/Windows/Fonts/malgun.ttf\").get_name()\n",
    "rc('font', family=font_name)"
   ]
  },
  {
   "cell_type": "markdown",
   "id": "6f2f963d",
   "metadata": {},
   "source": [
    "사용 데이터 <br>\n",
    "https://population.un.org/wpp/Download/Standard/MostUsed/ [세계 연평균 사망자수 데이터]<br>\n",
    "https://www.kaggle.com/datasets/piterfm/2022-ukraine-russian-war [전쟁중 러시아군 사망자수 데이터]"
   ]
  },
  {
   "cell_type": "markdown",
   "id": "f5ef90c5",
   "metadata": {},
   "source": [
    "# 전쟁으로 인한 러시아군 사망률과 전세계 수천명단위 연평균 사망자수 비교"
   ]
  },
  {
   "cell_type": "code",
   "execution_count": 149,
   "id": "80c19233",
   "metadata": {},
   "outputs": [],
   "source": [
    "# 러시아군 사망자수\n",
    "러시아군사망자수 = pd.read_csv('data/전쟁중_러시아군_사망자수.csv', sep = ',', engine = 'python',\n",
    "                   names = ['Date','Count'], skiprows=1, index_col=0)"
   ]
  },
  {
   "cell_type": "markdown",
   "id": "fcc15ffb",
   "metadata": {},
   "source": [
    "### 총 러시아군 사망자 수"
   ]
  },
  {
   "cell_type": "code",
   "execution_count": 150,
   "id": "5b0bd619",
   "metadata": {},
   "outputs": [],
   "source": [
    "총러시아군사망자수 = 러시아군사망자수.max()"
   ]
  },
  {
   "cell_type": "code",
   "execution_count": 151,
   "id": "f6fee5f9",
   "metadata": {},
   "outputs": [
    {
     "data": {
      "text/plain": [
       "<AxesSubplot:>"
      ]
     },
     "execution_count": 151,
     "metadata": {},
     "output_type": "execute_result"
    },
    {
     "data": {
      "image/png": "[encoded data removed]",
      "text/plain": [
       "<Figure size 432x288 with 1 Axes>"
      ]
     },
     "metadata": {
      "needs_background": "light"
     },
     "output_type": "display_data"
    }
   ],
   "source": [
    "총러시아군사망자수.plot.bar()"
   ]
  },
  {
   "cell_type": "markdown",
   "id": "0cd7740d",
   "metadata": {},
   "source": [
    "### 전세계 2022년 수천명 단위 사망자수\n"
   ]
  },
  {
   "cell_type": "code",
   "execution_count": 152,
   "id": "7de76e2a",
   "metadata": {},
   "outputs": [
    {
     "data": {
      "text/html": [
       "<div>\n",
       "<style scoped>\n",
       "    .dataframe tbody tr th:only-of-type {\n",
       "        vertical-align: middle;\n",
       "    }\n",
       "\n",
       "    .dataframe tbody tr th {\n",
       "        vertical-align: top;\n",
       "    }\n",
       "\n",
       "    .dataframe thead th {\n",
       "        text-align: right;\n",
       "    }\n",
       "</style>\n",
       "<table border=\"1\" class=\"dataframe\">\n",
       "  <thead>\n",
       "    <tr style=\"text-align: right;\">\n",
       "      <th></th>\n",
       "      <th>Date</th>\n",
       "      <th>Count</th>\n",
       "    </tr>\n",
       "  </thead>\n",
       "  <tbody>\n",
       "    <tr>\n",
       "      <th>0</th>\n",
       "      <td>1951</td>\n",
       "      <td>48789</td>\n",
       "    </tr>\n",
       "    <tr>\n",
       "      <th>1</th>\n",
       "      <td>1952</td>\n",
       "      <td>48515</td>\n",
       "    </tr>\n",
       "    <tr>\n",
       "      <th>2</th>\n",
       "      <td>1953</td>\n",
       "      <td>47647</td>\n",
       "    </tr>\n",
       "    <tr>\n",
       "      <th>3</th>\n",
       "      <td>1954</td>\n",
       "      <td>47499</td>\n",
       "    </tr>\n",
       "    <tr>\n",
       "      <th>4</th>\n",
       "      <td>1955</td>\n",
       "      <td>47003</td>\n",
       "    </tr>\n",
       "    <tr>\n",
       "      <th>...</th>\n",
       "      <td>...</td>\n",
       "      <td>...</td>\n",
       "    </tr>\n",
       "    <tr>\n",
       "      <th>67</th>\n",
       "      <td>2018</td>\n",
       "      <td>56966</td>\n",
       "    </tr>\n",
       "    <tr>\n",
       "      <th>68</th>\n",
       "      <td>2019</td>\n",
       "      <td>57352</td>\n",
       "    </tr>\n",
       "    <tr>\n",
       "      <th>69</th>\n",
       "      <td>2020</td>\n",
       "      <td>57939</td>\n",
       "    </tr>\n",
       "    <tr>\n",
       "      <th>70</th>\n",
       "      <td>2021</td>\n",
       "      <td>63174</td>\n",
       "    </tr>\n",
       "    <tr>\n",
       "      <th>71</th>\n",
       "      <td>2022</td>\n",
       "      <td>69248</td>\n",
       "    </tr>\n",
       "  </tbody>\n",
       "</table>\n",
       "<p>72 rows × 2 columns</p>\n",
       "</div>"
      ],
      "text/plain": [
       "    Date  Count\n",
       "0   1951  48789\n",
       "1   1952  48515\n",
       "2   1953  47647\n",
       "3   1954  47499\n",
       "4   1955  47003\n",
       "..   ...    ...\n",
       "67  2018  56966\n",
       "68  2019  57352\n",
       "69  2020  57939\n",
       "70  2021  63174\n",
       "71  2022  69248\n",
       "\n",
       "[72 rows x 2 columns]"
      ]
     },
     "execution_count": 152,
     "metadata": {},
     "output_type": "execute_result"
    }
   ],
   "source": [
    "# 세계 연평균 수천명 단위 사망자 수 [ 수천명 : 999,999명]\n",
    "세계연평균사망자수 = pd.read_csv('data/전세계_수천명단위_연평균_사망자수.csv',sep = ',', engine = 'python',names = ['Date','Count'], skiprows=1)\n",
    "세계연평균사망자수"
   ]
  },
  {
   "cell_type": "code",
   "execution_count": 153,
   "id": "e30af8f4",
   "metadata": {},
   "outputs": [
    {
     "data": {
      "text/plain": [
       "71    69248\n",
       "Name: Count, dtype: int64"
      ]
     },
     "execution_count": 153,
     "metadata": {},
     "output_type": "execute_result"
    }
   ],
   "source": [
    "세계올해평균사망자수 = 세계연평균사망자수[세계연평균사망자수.Date==2022].Count\n",
    "세계올해평균사망자수"
   ]
  },
  {
   "cell_type": "code",
   "execution_count": 154,
   "id": "dae1991b",
   "metadata": {},
   "outputs": [
    {
     "data": {
      "text/plain": [
       "<AxesSubplot:>"
      ]
     },
     "execution_count": 154,
     "metadata": {},
     "output_type": "execute_result"
    },
    {
     "data": {
      "image/png": "[encoded data removed]",
      "text/plain": [
       "<Figure size 432x288 with 1 Axes>"
      ]
     },
     "metadata": {
      "needs_background": "light"
     },
     "output_type": "display_data"
    }
   ],
   "source": [
    "세계올해평균사망자수.plot.bar()"
   ]
  },
  {
   "cell_type": "code",
   "execution_count": 155,
   "id": "a04d55f6",
   "metadata": {},
   "outputs": [
    {
     "name": "stderr",
     "output_type": "stream",
     "text": [
      "C:\\Users\\chltm\\AppData\\Local\\Temp\\ipykernel_23320\\2316116494.py:1: SettingWithCopyWarning: \n",
      "A value is trying to be set on a copy of a slice from a DataFrame\n",
      "\n",
      "See the caveats in the documentation: https://pandas.pydata.org/pandas-docs/stable/user_guide/indexing.html#returning-a-view-versus-a-copy\n",
      "  세계올해평균사망자수['러시아군사망자수'] = 총러시아군사망자수.Count;\n"
     ]
    },
    {
     "data": {
      "text/plain": [
       "<AxesSubplot:>"
      ]
     },
     "execution_count": 155,
     "metadata": {},
     "output_type": "execute_result"
    },
    {
     "data": {
      "image/png": "[encoded data removed]",
      "text/plain": [
       "<Figure size 432x288 with 1 Axes>"
      ]
     },
     "metadata": {
      "needs_background": "light"
     },
     "output_type": "display_data"
    }
   ],
   "source": [
    "세계올해평균사망자수['러시아군사망자수'] = 총러시아군사망자수.Count;\n",
    "세계올해평균사망자수.index = ['수천단위_올해_평균_사망자수','총_러시아군_사망자수']\n",
    "세계올해평균사망자수.plot.bar()"
   ]
  },
  {
   "cell_type": "markdown",
   "id": "8c83c4cf",
   "metadata": {},
   "source": [
    "올해의 세계 평균 사망자수(999,999명 평균)와 총 러시아군의 사망자 수를 비교하였을 때 <br>\n",
    "러시아군의 사망자수가 더 많은 것을 그래프를 통해 확인할 수 있었다. <br>\n",
    "<br>\n",
    "물론 999,999명 단위 평균 사망자수와 비교하였다는 한계점이 있지만 <br>\n",
    "이 값과 비교했다고 하더라도 결코 적은 값이 아니라는 것을 알 수 있다.<br>\n",
    "<br>\n",
    "러시아군 뿐만 아니라 우크라이나군, 해외에서 파병된 용병, 민간인 등 다른 참전자들의 사망자 수를 다 더하게 된다면<br>\n",
    "현재 러시아군 사망자수의 3배정도가 될 것으로 예측이 된다.<br>"
   ]
  },
  {
   "cell_type": "code",
   "execution_count": null,
   "id": "32d58021",
   "metadata": {},
   "outputs": [],
   "source": []
  }
 ],
 "metadata": {
  "kernelspec": {
   "display_name": "Python 3 (ipykernel)",
   "language": "python",
   "name": "python3"
  },
  "language_info": {
   "codemirror_mode": {
    "name": "ipython",
    "version": 3
   },
   "file_extension": ".py",
   "mimetype": "text/x-python",
   "name": "python",
   "nbconvert_exporter": "python",
   "pygments_lexer": "ipython3",
   "version": "3.9.12"
  }
 },
 "nbformat": 4,
 "nbformat_minor": 5
}
